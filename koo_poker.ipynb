{
 "cells": [
  {
   "cell_type": "code",
   "execution_count": 1,
   "metadata": {
    "collapsed": true
   },
   "outputs": [],
   "source": [
    "import random\n",
    "import numpy as np\n",
    "import matplotlib.pyplot as plt"
   ]
  },
  {
   "cell_type": "code",
   "execution_count": 2,
   "metadata": {
    "collapsed": true
   },
   "outputs": [],
   "source": [
    "class BayesNet:\n",
    "    \"\"\"This class was used for HW 2, some of the attributes/methods might not be used in the context of poker\"\"\"\n",
    "    \"\"\"Can probably not use this class at all with a few adjustments to other code\"\"\"\n",
    "    ## Object representing the probability tables in a Bayes' Net.\n",
    "    class ProbabilityTable:\n",
    "    \n",
    "        ## variables := a dictionary that maps variable names to a specific column number within the table\n",
    "        ## table := a dictionary with lists as keys and probabilities as values\n",
    "            ## The keys (lists) represent specific configurations of truth values for each variable\n",
    "        def __init__(self, variables, table):\n",
    "            self.variables = variables\n",
    "            self.table = table\n",
    "\n",
    "    def __init__(self, variables, probability_tables, graph, values):\n",
    "        self.variables = variables\n",
    "        self.probability_tables = probability_tables\n",
    "        self.graph = graph\n",
    "        self.indices = {v: k for k, v in self.variables.items()}\n",
    "        self.values = values\n",
    "        \n",
    "        "
   ]
  },
  {
   "cell_type": "code",
   "execution_count": 3,
   "metadata": {
    "collapsed": true
   },
   "outputs": [],
   "source": [
    "def pf_sample(probabilities, values):\n",
    "    \"\"\"Sample a probability function defined by an array of 'probabilities' and 'values'\"\"\"\n",
    "    total = 0\n",
    "    partition = [None]*len(probabilities)\n",
    "    for i in range(0,len(probabilities)):\n",
    "        partition[i] = total + probabilities[i]\n",
    "        total = total + probabilities[i]\n",
    "        \n",
    "    num = random.random()\n",
    "    for i in range(0,len(partition)):\n",
    "        if i == 0:\n",
    "            if num <= partition[i]:\n",
    "                return values[i]\n",
    "        else:\n",
    "            if num > partition[i-1] and num <= partition[i]:\n",
    "                return values[i]"
   ]
  },
  {
   "cell_type": "code",
   "execution_count": 5,
   "metadata": {
    "collapsed": true
   },
   "outputs": [],
   "source": [
    "def generate_opponent_bet_table():\n",
    "    \"\"\"Generate a random opponent bet table, e.g. given a strength of 1, the probability it bets 10 might some random number\"\"\"\n",
    "    ret = BayesNet.ProbabilityTable({'S': 0, 'B': 1}, {})\n",
    "    \n",
    "    for s in range(1,11):\n",
    "        total = 0.0\n",
    "        for b in range(1,11):\n",
    "            ret.table[(s,b)] = random.random()\n",
    "            total = total + ret.table[(s,b)]\n",
    "        for b in range(1,11):\n",
    "            ret.table[(s,b)] = ret.table[(s,b)]/total\n",
    "    return ret"
   ]
  },
  {
   "cell_type": "code",
   "execution_count": 6,
   "metadata": {
    "collapsed": true
   },
   "outputs": [],
   "source": [
    "def generate_opponent_bet(opponent_strength, opponent_bet_table):\n",
    "    \"\"\"Given a hand strength for the opponent, generate a bet from the opponent given its bet table\"\"\"\n",
    "    probabilities = [None]*10\n",
    "    \n",
    "    for b in range(1,11):\n",
    "            probabilities[b-1] = opponent_bet_table.table[(opponent_strength,b)]\n",
    "    \n",
    "    return pf_sample(probabilities, [1,2,3,4,5,6,7,8,9,10])"
   ]
  },
  {
   "cell_type": "code",
   "execution_count": 7,
   "metadata": {
    "collapsed": true
   },
   "outputs": [],
   "source": [
    "def eu(action, my_strength, counts, opponent_bet):\n",
    "    \"\"\"Return the expected utility of an action given 'my_strength', 'counts' table, and 'opponent_bet' table\"\"\"\n",
    "    if action == 'f':\n",
    "        return -1\n",
    "    else:\n",
    "        total = 0\n",
    "        for s in range(1,11):\n",
    "            if sum(counts[:,opponent_bet-1]) == 0:\n",
    "                continue\n",
    "            if my_strength > s:\n",
    "                total = total + (counts[s-1][opponent_bet-1]/sum(counts[:,opponent_bet-1]))*(1+opponent_bet)\n",
    "            elif my_strength < s:\n",
    "                total = total + (counts[s-1][opponent_bet-1]/sum(counts[:,opponent_bet-1]))*-1*(1+opponent_bet)\n",
    "            else:\n",
    "                total = total + (counts[s-1][opponent_bet-1]/sum(counts[:,opponent_bet-1]))*0 # no utility for tie game\n",
    "        return total\n",
    "        "
   ]
  },
  {
   "cell_type": "code",
   "execution_count": 8,
   "metadata": {
    "collapsed": true
   },
   "outputs": [],
   "source": [
    "def action(my_strength, counts, opponent_bet):\n",
    "    \"\"\"Return an action (fold (f) or call (c)) that maximizes expected utility\"\"\"\n",
    "    if eu('f', my_strength, counts, opponent_bet) >= eu('c', my_strength, counts, opponent_bet):\n",
    "        return 'f'\n",
    "    else:\n",
    "        return 'c'"
   ]
  },
  {
   "cell_type": "code",
   "execution_count": 4,
   "metadata": {
    "collapsed": true
   },
   "outputs": [],
   "source": [
    "# Each of the probabilities for each of the possible poker hands, e.g., hand_probabilities[9] := Pr(Royal flush)\n",
    "hand_probabilities = [0.501177, 0.422569, 0.047539, 0.021128, 0.003925, 0.001965, 0.001441, 0.000240, 0.0000139, 0.00000154]\n",
    "\n",
    "# Strength of each possible poker hand, e.g., hand_values[9] := strength of 10\n",
    "hand_values = [1,2,3,4,5,6,7,8,9,10]"
   ]
  },
  {
   "cell_type": "code",
   "execution_count": 9,
   "metadata": {
    "collapsed": true
   },
   "outputs": [],
   "source": [
    "# 10 x 10 array representing the joint occurences of the opponent hand strength (1-10) and bet (1-10)\n",
    "# Used to compute conditional P(Strength of opponent | Bet of opponent)\n",
    "counts = np.zeros((10,10))"
   ]
  },
  {
   "cell_type": "code",
   "execution_count": 10,
   "metadata": {},
   "outputs": [],
   "source": [
    "# Randomly generated opponent_bet table. Contains probabilities of opponent betting X given his hand strength Y\n",
    "opponent_bet = generate_opponent_bet_table()"
   ]
  },
  {
   "cell_type": "code",
   "execution_count": 11,
   "metadata": {
    "collapsed": true
   },
   "outputs": [],
   "source": [
    "def game(counts, opponent_bet_table):\n",
    "    \"\"\"Method that simulates a single game between our agent and an opponent with a predefined 'opponent_bet_table'\"\"\"\n",
    "    opponent_hand = pf_sample(hand_probabilities, hand_values)\n",
    "    my_hand = pf_sample(hand_probabilities, hand_values)\n",
    "    \n",
    "    opponent_bet = generate_opponent_bet(opponent_hand, opponent_bet_table)\n",
    "    my_action = action(my_hand, counts, opponent_bet)\n",
    "    \n",
    "#     a = eu('f', my_hand, counts, opponent_bet)\n",
    "#     b = eu('c', my_hand, counts, opponent_bet)\n",
    "\n",
    "#     print(my_hand, ' ', opponent_hand)\n",
    "    counts[opponent_hand-1][opponent_bet-1] = counts[opponent_hand-1][opponent_bet-1] + 1\n",
    "    if my_hand > opponent_hand:\n",
    "        if my_action == 'c':\n",
    "#             print(my_action, ' win')\n",
    "            return (0,0, 1 + opponent_bet) # Call and win (good)\n",
    "        else:\n",
    "#             print(my_action, ' lose')\n",
    "            return (0,1, -1) # Fold and lose (bad)\n",
    "    elif my_hand < opponent_hand:\n",
    "        if my_action == 'c':\n",
    "#             print(my_action, ' lose')\n",
    "            return (1,0, -1-opponent_bet) # Call and lose (bad)\n",
    "        else:\n",
    "#             print(my_action, ' lose')\n",
    "            return (1,1, -1) # Fold and lose (good)\n",
    "    else:\n",
    "        if my_action == 'c':\n",
    "#             print(my_action, ' tie')\n",
    "            return (0,2,0) # Call and tie (neutral)\n",
    "        else:\n",
    "#             print(my_action, ' lose')\n",
    "            return (1,2,-1) # Fold and tie (bad)"
   ]
  },
  {
   "cell_type": "code",
   "execution_count": 12,
   "metadata": {
    "collapsed": true
   },
   "outputs": [],
   "source": [
    "# 2 x 3 array summarizing results\n",
    "# results[0][0] := # of times agent called and won\n",
    "# results[0][1] := # of times agent fold and won (but actually lost due to folding)\n",
    "# results[0][2] := # of times agent called and tied\n",
    "# results[1][0] := # of times agent call and lost\n",
    "# results[1][1] := # of times agent fold and lost\n",
    "# results[1][2] := # of times agent fold and tied\n",
    "results = [[0,0,0],[0,0,0]]\n"
   ]
  },
  {
   "cell_type": "code",
   "execution_count": 13,
   "metadata": {
    "collapsed": true
   },
   "outputs": [],
   "source": [
    "# Profit we make\n",
    "money = 0"
   ]
  },
  {
   "cell_type": "code",
   "execution_count": 14,
   "metadata": {
    "collapsed": true
   },
   "outputs": [],
   "source": [
    "x = [i for i in range(0,10000)] # axis for # of games played\n",
    "y = [0 for i in range(0,10000)] # axis for money"
   ]
  },
  {
   "cell_type": "code",
   "execution_count": 15,
   "metadata": {},
   "outputs": [],
   "source": [
    "# Play 10000 games and store stats in 'results' array and update 'money'\n",
    "for i in range(0,10000):\n",
    "    res = game(counts, opponent_bet)\n",
    "    results[res[0]][res[1]] = results[res[0]][res[1]] + 1\n",
    "    money = money + res[2]\n",
    "    y[i] = money"
   ]
  },
  {
   "cell_type": "code",
   "execution_count": 16,
   "metadata": {},
   "outputs": [
    {
     "data": {
      "text/plain": [
       "[[2813, 14, 2036], [499, 2289, 2349]]"
      ]
     },
     "execution_count": 16,
     "metadata": {},
     "output_type": "execute_result"
    }
   ],
   "source": [
    "results"
   ]
  },
  {
   "cell_type": "code",
   "execution_count": 17,
   "metadata": {},
   "outputs": [
    {
     "data": {
      "text/plain": [
       "9218"
      ]
     },
     "execution_count": 17,
     "metadata": {},
     "output_type": "execute_result"
    }
   ],
   "source": [
    "money"
   ]
  },
  {
   "cell_type": "code",
   "execution_count": 18,
   "metadata": {},
   "outputs": [
    {
     "data": {
      "image/png": "[encoded data removed]",
      "text/plain": [
       "<matplotlib.figure.Figure at 0x26a4b558cc0>"
      ]
     },
     "metadata": {},
     "output_type": "display_data"
    }
   ],
   "source": [
    "plt.plot(x[0:10],y[0:10])\n",
    "plt.show() # money over time for 10 games"
   ]
  },
  {
   "cell_type": "code",
   "execution_count": 19,
   "metadata": {},
   "outputs": [
    {
     "data": {
      "image/png": "[encoded data removed]",
      "text/plain": [
       "<matplotlib.figure.Figure at 0x26a4b7009e8>"
      ]
     },
     "metadata": {},
     "output_type": "display_data"
    }
   ],
   "source": [
    "plt.plot(x[0:100],y[0:100])\n",
    "plt.show() # money over time for 100 games"
   ]
  },
  {
   "cell_type": "code",
   "execution_count": 20,
   "metadata": {},
   "outputs": [
    {
     "data": {
      "image/png": "[encoded data removed]",
      "text/plain": [
       "<matplotlib.figure.Figure at 0x26a4ba1b860>"
      ]
     },
     "metadata": {},
     "output_type": "display_data"
    }
   ],
   "source": [
    "plt.plot(x[0:1000],y[0:1000])\n",
    "plt.show() # money over time for 1000 games"
   ]
  },
  {
   "cell_type": "code",
   "execution_count": 21,
   "metadata": {},
   "outputs": [
    {
     "data": {
      "image/png": "[encoded data removed]",
      "text/plain": [
       "<matplotlib.figure.Figure at 0x26a4bcf9588>"
      ]
     },
     "metadata": {},
     "output_type": "display_data"
    }
   ],
   "source": [
    "plt.plot(x[0:10000],y[0:10000])\n",
    "plt.show() # money over time for 10000 games"
   ]
  }
 ],
 "metadata": {
  "kernelspec": {
   "display_name": "Python 3",
   "language": "python",
   "name": "python3"
  },
  "language_info": {
   "codemirror_mode": {
    "name": "ipython",
    "version": 3
   },
   "file_extension": ".py",
   "mimetype": "text/x-python",
   "name": "python",
   "nbconvert_exporter": "python",
   "pygments_lexer": "ipython3",
   "version": "3.6.2"
  }
 },
 "nbformat": 4,
 "nbformat_minor": 2
}
